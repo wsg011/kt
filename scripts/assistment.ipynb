{
 "metadata": {
  "language_info": {
   "codemirror_mode": {
    "name": "ipython",
    "version": 3
   },
   "file_extension": ".py",
   "mimetype": "text/x-python",
   "name": "python",
   "nbconvert_exporter": "python",
   "pygments_lexer": "ipython3",
   "version": "3.7.9-final"
  },
  "orig_nbformat": 2,
  "kernelspec": {
   "name": "python3",
   "display_name": "Python 3"
  }
 },
 "nbformat": 4,
 "nbformat_minor": 2,
 "cells": [
  {
   "cell_type": "code",
   "execution_count": 1,
   "metadata": {},
   "outputs": [],
   "source": [
    "import numpy as np\n",
    "import pandas as pd"
   ]
  },
  {
   "source": [
    "## 2009"
   ],
   "cell_type": "markdown",
   "metadata": {}
  },
  {
   "cell_type": "code",
   "execution_count": 20,
   "metadata": {},
   "outputs": [
    {
     "output_type": "execute_result",
     "data": {
      "text/plain": [
       "   order_id  assignment_id  user_id  assistment_id  problem_id  original  \\\n",
       "0  33022537         277618    64525          33139       51424         1   \n",
       "1  33022709         277618    64525          33150       51435         1   \n",
       "2  35450204         220674    70363          33159       51444         1   \n",
       "3  35450295         220674    70363          33110       51395         1   \n",
       "4  35450311         220674    70363          33196       51481         1   \n",
       "\n",
       "   correct  attempt_count  ms_first_response tutor_mode  ... hint_count  \\\n",
       "0        1              1              32454      tutor  ...          0   \n",
       "1        1              1               4922      tutor  ...          0   \n",
       "2        0              2              25390      tutor  ...          0   \n",
       "3        1              1               4859      tutor  ...          0   \n",
       "4        0             14              19813      tutor  ...          3   \n",
       "\n",
       "   hint_total  overlap_time  template_id answer_id  answer_text  first_action  \\\n",
       "0           3         32454        30799       NaN           26             0   \n",
       "1           3          4922        30799       NaN           55             0   \n",
       "2           3         42000        30799       NaN           88             0   \n",
       "3           3          4859        30059       NaN           41             0   \n",
       "4           4        124564        30060       NaN           65             0   \n",
       "\n",
       "  bottom_hint  opportunity  opportunity_original  \n",
       "0         NaN            1                   1.0  \n",
       "1         NaN            2                   2.0  \n",
       "2         NaN            1                   1.0  \n",
       "3         NaN            2                   2.0  \n",
       "4         0.0            3                   3.0  \n",
       "\n",
       "[5 rows x 30 columns]"
      ],
      "text/html": "<div>\n<style scoped>\n    .dataframe tbody tr th:only-of-type {\n        vertical-align: middle;\n    }\n\n    .dataframe tbody tr th {\n        vertical-align: top;\n    }\n\n    .dataframe thead th {\n        text-align: right;\n    }\n</style>\n<table border=\"1\" class=\"dataframe\">\n  <thead>\n    <tr style=\"text-align: right;\">\n      <th></th>\n      <th>order_id</th>\n      <th>assignment_id</th>\n      <th>user_id</th>\n      <th>assistment_id</th>\n      <th>problem_id</th>\n      <th>original</th>\n      <th>correct</th>\n      <th>attempt_count</th>\n      <th>ms_first_response</th>\n      <th>tutor_mode</th>\n      <th>...</th>\n      <th>hint_count</th>\n      <th>hint_total</th>\n      <th>overlap_time</th>\n      <th>template_id</th>\n      <th>answer_id</th>\n      <th>answer_text</th>\n      <th>first_action</th>\n      <th>bottom_hint</th>\n      <th>opportunity</th>\n      <th>opportunity_original</th>\n    </tr>\n  </thead>\n  <tbody>\n    <tr>\n      <th>0</th>\n      <td>33022537</td>\n      <td>277618</td>\n      <td>64525</td>\n      <td>33139</td>\n      <td>51424</td>\n      <td>1</td>\n      <td>1</td>\n      <td>1</td>\n      <td>32454</td>\n      <td>tutor</td>\n      <td>...</td>\n      <td>0</td>\n      <td>3</td>\n      <td>32454</td>\n      <td>30799</td>\n      <td>NaN</td>\n      <td>26</td>\n      <td>0</td>\n      <td>NaN</td>\n      <td>1</td>\n      <td>1.0</td>\n    </tr>\n    <tr>\n      <th>1</th>\n      <td>33022709</td>\n      <td>277618</td>\n      <td>64525</td>\n      <td>33150</td>\n      <td>51435</td>\n      <td>1</td>\n      <td>1</td>\n      <td>1</td>\n      <td>4922</td>\n      <td>tutor</td>\n      <td>...</td>\n      <td>0</td>\n      <td>3</td>\n      <td>4922</td>\n      <td>30799</td>\n      <td>NaN</td>\n      <td>55</td>\n      <td>0</td>\n      <td>NaN</td>\n      <td>2</td>\n      <td>2.0</td>\n    </tr>\n    <tr>\n      <th>2</th>\n      <td>35450204</td>\n      <td>220674</td>\n      <td>70363</td>\n      <td>33159</td>\n      <td>51444</td>\n      <td>1</td>\n      <td>0</td>\n      <td>2</td>\n      <td>25390</td>\n      <td>tutor</td>\n      <td>...</td>\n      <td>0</td>\n      <td>3</td>\n      <td>42000</td>\n      <td>30799</td>\n      <td>NaN</td>\n      <td>88</td>\n      <td>0</td>\n      <td>NaN</td>\n      <td>1</td>\n      <td>1.0</td>\n    </tr>\n    <tr>\n      <th>3</th>\n      <td>35450295</td>\n      <td>220674</td>\n      <td>70363</td>\n      <td>33110</td>\n      <td>51395</td>\n      <td>1</td>\n      <td>1</td>\n      <td>1</td>\n      <td>4859</td>\n      <td>tutor</td>\n      <td>...</td>\n      <td>0</td>\n      <td>3</td>\n      <td>4859</td>\n      <td>30059</td>\n      <td>NaN</td>\n      <td>41</td>\n      <td>0</td>\n      <td>NaN</td>\n      <td>2</td>\n      <td>2.0</td>\n    </tr>\n    <tr>\n      <th>4</th>\n      <td>35450311</td>\n      <td>220674</td>\n      <td>70363</td>\n      <td>33196</td>\n      <td>51481</td>\n      <td>1</td>\n      <td>0</td>\n      <td>14</td>\n      <td>19813</td>\n      <td>tutor</td>\n      <td>...</td>\n      <td>3</td>\n      <td>4</td>\n      <td>124564</td>\n      <td>30060</td>\n      <td>NaN</td>\n      <td>65</td>\n      <td>0</td>\n      <td>0.0</td>\n      <td>3</td>\n      <td>3.0</td>\n    </tr>\n  </tbody>\n</table>\n<p>5 rows × 30 columns</p>\n</div>"
     },
     "metadata": {},
     "execution_count": 20
    }
   ],
   "source": [
    "# assistment2009 = pd.read_csv(\"../data/assistments2009/skill_builder_data_corrected_collapsed.csv\")\n",
    "assistment2009 = pd.read_csv(\"../data/ASSISTments2009/skill_builder_data_corrected.csv\")\n",
    "assistment2009.head()"
   ]
  },
  {
   "cell_type": "code",
   "execution_count": 24,
   "metadata": {},
   "outputs": [
    {
     "output_type": "stream",
     "name": "stdout",
     "text": [
      "4163 123\n"
     ]
    }
   ],
   "source": [
    "train2009 = assistment2009[[\"user_id\", \"skill_id\", \"correct\"]].dropna()\n",
    "\n",
    "user_ids = train2009[\"user_id\"].unique()\n",
    "skill_ids = train2009[\"skill_id\"].unique()\n",
    "print(len(user_ids), len(skill_ids))\n",
    "\n",
    "train2009.to_csv(\"../data/assistments2009/assistments2009.csv\", index=False)"
   ]
  },
  {
   "source": [
    "## 2012"
   ],
   "cell_type": "markdown",
   "metadata": {}
  },
  {
   "cell_type": "code",
   "execution_count": 25,
   "metadata": {},
   "outputs": [
    {
     "output_type": "stream",
     "name": "stdout",
     "text": [
      "(6123270, 35)\n"
     ]
    },
    {
     "output_type": "execute_result",
     "data": {
      "text/plain": [
       "   problem_log_id                                 skill  problem_id  user_id  \\\n",
       "0       137792159                                   NaN      557460    61394   \n",
       "1       138083797                              Rounding      365981    61394   \n",
       "2       142332619  Multiplication and Division Integers      426415    61394   \n",
       "3       145939397                            Proportion       86686    61394   \n",
       "4       137111284                                   NaN      399669    76592   \n",
       "\n",
       "   assignment_id  assistment_id           start_time                 end_time  \\\n",
       "0         565736         341511  2012-09-28 15:11:27  2012-09-28 15:11:36.856   \n",
       "1         573819         204043  2012-10-09 11:01:52  2012-10-09 11:02:13.182   \n",
       "2         734130         247525  2013-03-07 10:53:20  2013-03-07 10:53:28.661   \n",
       "3         821352          48081  2013-08-20 19:54:56  2013-08-20 19:55:21.753   \n",
       "4         557216         227869  2012-09-10 17:20:10  2012-09-10 17:24:56.579   \n",
       "\n",
       "  problem_type  original  ...  overlap_time  template_id  answer_id  \\\n",
       "0     choose_1         1  ...          9852       341511        NaN   \n",
       "1      algebra         1  ...         21175       204043        NaN   \n",
       "2      algebra         1  ...          8645       247525        NaN   \n",
       "3      algebra         1  ...         25728        46362        NaN   \n",
       "4     choose_1         1  ...        286578       227869        NaN   \n",
       "\n",
       "          answer_text  first_action  problemlogid  \\\n",
       "0                 she             0     137792159   \n",
       "1               74.29             0     138083797   \n",
       "2                  00             0     142332619   \n",
       "3                 3.8             0     145939397   \n",
       "4  C (wr - 1)(wr + 1)             0     137111284   \n",
       "\n",
       "  Average_confidence(FRUSTRATED)  Average_confidence(CONFUSED)  \\\n",
       "0                       0.361323                           0.0   \n",
       "1                       0.361323                           0.0   \n",
       "2                       0.361323                           0.0   \n",
       "3                       0.775000                           0.0   \n",
       "4                       0.361323                           0.0   \n",
       "\n",
       "   Average_confidence(CONCENTRATING)  Average_confidence(BORED)  \n",
       "0                           0.336529                   0.000000  \n",
       "1                           0.766925                   0.000000  \n",
       "2                           0.766925                   0.442968  \n",
       "3                           0.766925                   0.912281  \n",
       "4                           0.766925                   0.000000  \n",
       "\n",
       "[5 rows x 35 columns]"
      ],
      "text/html": "<div>\n<style scoped>\n    .dataframe tbody tr th:only-of-type {\n        vertical-align: middle;\n    }\n\n    .dataframe tbody tr th {\n        vertical-align: top;\n    }\n\n    .dataframe thead th {\n        text-align: right;\n    }\n</style>\n<table border=\"1\" class=\"dataframe\">\n  <thead>\n    <tr style=\"text-align: right;\">\n      <th></th>\n      <th>problem_log_id</th>\n      <th>skill</th>\n      <th>problem_id</th>\n      <th>user_id</th>\n      <th>assignment_id</th>\n      <th>assistment_id</th>\n      <th>start_time</th>\n      <th>end_time</th>\n      <th>problem_type</th>\n      <th>original</th>\n      <th>...</th>\n      <th>overlap_time</th>\n      <th>template_id</th>\n      <th>answer_id</th>\n      <th>answer_text</th>\n      <th>first_action</th>\n      <th>problemlogid</th>\n      <th>Average_confidence(FRUSTRATED)</th>\n      <th>Average_confidence(CONFUSED)</th>\n      <th>Average_confidence(CONCENTRATING)</th>\n      <th>Average_confidence(BORED)</th>\n    </tr>\n  </thead>\n  <tbody>\n    <tr>\n      <th>0</th>\n      <td>137792159</td>\n      <td>NaN</td>\n      <td>557460</td>\n      <td>61394</td>\n      <td>565736</td>\n      <td>341511</td>\n      <td>2012-09-28 15:11:27</td>\n      <td>2012-09-28 15:11:36.856</td>\n      <td>choose_1</td>\n      <td>1</td>\n      <td>...</td>\n      <td>9852</td>\n      <td>341511</td>\n      <td>NaN</td>\n      <td>she</td>\n      <td>0</td>\n      <td>137792159</td>\n      <td>0.361323</td>\n      <td>0.0</td>\n      <td>0.336529</td>\n      <td>0.000000</td>\n    </tr>\n    <tr>\n      <th>1</th>\n      <td>138083797</td>\n      <td>Rounding</td>\n      <td>365981</td>\n      <td>61394</td>\n      <td>573819</td>\n      <td>204043</td>\n      <td>2012-10-09 11:01:52</td>\n      <td>2012-10-09 11:02:13.182</td>\n      <td>algebra</td>\n      <td>1</td>\n      <td>...</td>\n      <td>21175</td>\n      <td>204043</td>\n      <td>NaN</td>\n      <td>74.29</td>\n      <td>0</td>\n      <td>138083797</td>\n      <td>0.361323</td>\n      <td>0.0</td>\n      <td>0.766925</td>\n      <td>0.000000</td>\n    </tr>\n    <tr>\n      <th>2</th>\n      <td>142332619</td>\n      <td>Multiplication and Division Integers</td>\n      <td>426415</td>\n      <td>61394</td>\n      <td>734130</td>\n      <td>247525</td>\n      <td>2013-03-07 10:53:20</td>\n      <td>2013-03-07 10:53:28.661</td>\n      <td>algebra</td>\n      <td>1</td>\n      <td>...</td>\n      <td>8645</td>\n      <td>247525</td>\n      <td>NaN</td>\n      <td>00</td>\n      <td>0</td>\n      <td>142332619</td>\n      <td>0.361323</td>\n      <td>0.0</td>\n      <td>0.766925</td>\n      <td>0.442968</td>\n    </tr>\n    <tr>\n      <th>3</th>\n      <td>145939397</td>\n      <td>Proportion</td>\n      <td>86686</td>\n      <td>61394</td>\n      <td>821352</td>\n      <td>48081</td>\n      <td>2013-08-20 19:54:56</td>\n      <td>2013-08-20 19:55:21.753</td>\n      <td>algebra</td>\n      <td>1</td>\n      <td>...</td>\n      <td>25728</td>\n      <td>46362</td>\n      <td>NaN</td>\n      <td>3.8</td>\n      <td>0</td>\n      <td>145939397</td>\n      <td>0.775000</td>\n      <td>0.0</td>\n      <td>0.766925</td>\n      <td>0.912281</td>\n    </tr>\n    <tr>\n      <th>4</th>\n      <td>137111284</td>\n      <td>NaN</td>\n      <td>399669</td>\n      <td>76592</td>\n      <td>557216</td>\n      <td>227869</td>\n      <td>2012-09-10 17:20:10</td>\n      <td>2012-09-10 17:24:56.579</td>\n      <td>choose_1</td>\n      <td>1</td>\n      <td>...</td>\n      <td>286578</td>\n      <td>227869</td>\n      <td>NaN</td>\n      <td>C (wr - 1)(wr + 1)</td>\n      <td>0</td>\n      <td>137111284</td>\n      <td>0.361323</td>\n      <td>0.0</td>\n      <td>0.766925</td>\n      <td>0.000000</td>\n    </tr>\n  </tbody>\n</table>\n<p>5 rows × 35 columns</p>\n</div>"
     },
     "metadata": {},
     "execution_count": 25
    }
   ],
   "source": [
    "## 2012\n",
    "assistments_2012 = pd.read_csv(\"../data/2012-2013-data-with-predictions-4-final/2012-2013-data-with-predictions-4-final.csv\")\n",
    "\n",
    "print(assistments_2012.shape)\n",
    "assistments_2012.head()"
   ]
  },
  {
   "cell_type": "code",
   "execution_count": 27,
   "metadata": {},
   "outputs": [
    {
     "output_type": "stream",
     "name": "stdout",
     "text": [
      "29018 265\n"
     ]
    }
   ],
   "source": [
    "train2012 = assistments_2012[[\"user_id\", \"skill_id\", \"correct\"]].dropna()\n",
    "\n",
    "user_ids = train2012[\"user_id\"].unique()\n",
    "skill_ids = train2012[\"skill_id\"].unique()\n",
    "print(len(user_ids), len(skill_ids))\n",
    "\n",
    "train2012.to_csv(\"../data/assistments2012/assistments2012.csv\", index=False)"
   ]
  },
  {
   "source": [
    "## 2015"
   ],
   "cell_type": "markdown",
   "metadata": {}
  },
  {
   "cell_type": "code",
   "execution_count": 29,
   "metadata": {},
   "outputs": [
    {
     "output_type": "stream",
     "name": "stdout",
     "text": [
      "(708631, 4)\n"
     ]
    },
    {
     "output_type": "execute_result",
     "data": {
      "text/plain": [
       "   user_id     log_id  sequence_id  correct\n",
       "0    50121  167478035         7014      0.0\n",
       "1    50121  167478043         7014      1.0\n",
       "2    50121  167478053         7014      1.0\n",
       "3    50121  167478069         7014      1.0\n",
       "4    50964  167478041         7014      1.0"
      ],
      "text/html": "<div>\n<style scoped>\n    .dataframe tbody tr th:only-of-type {\n        vertical-align: middle;\n    }\n\n    .dataframe tbody tr th {\n        vertical-align: top;\n    }\n\n    .dataframe thead th {\n        text-align: right;\n    }\n</style>\n<table border=\"1\" class=\"dataframe\">\n  <thead>\n    <tr style=\"text-align: right;\">\n      <th></th>\n      <th>user_id</th>\n      <th>log_id</th>\n      <th>sequence_id</th>\n      <th>correct</th>\n    </tr>\n  </thead>\n  <tbody>\n    <tr>\n      <th>0</th>\n      <td>50121</td>\n      <td>167478035</td>\n      <td>7014</td>\n      <td>0.0</td>\n    </tr>\n    <tr>\n      <th>1</th>\n      <td>50121</td>\n      <td>167478043</td>\n      <td>7014</td>\n      <td>1.0</td>\n    </tr>\n    <tr>\n      <th>2</th>\n      <td>50121</td>\n      <td>167478053</td>\n      <td>7014</td>\n      <td>1.0</td>\n    </tr>\n    <tr>\n      <th>3</th>\n      <td>50121</td>\n      <td>167478069</td>\n      <td>7014</td>\n      <td>1.0</td>\n    </tr>\n    <tr>\n      <th>4</th>\n      <td>50964</td>\n      <td>167478041</td>\n      <td>7014</td>\n      <td>1.0</td>\n    </tr>\n  </tbody>\n</table>\n</div>"
     },
     "metadata": {},
     "execution_count": 29
    }
   ],
   "source": [
    "assistments_2015 = pd.read_csv(\"../data/ASSISTments2015/2015_100_skill_builders_main_problems.csv\")\n",
    "\n",
    "print(assistments_2015.shape)\n",
    "assistments_2015.head()"
   ]
  },
  {
   "cell_type": "code",
   "execution_count": 31,
   "metadata": {},
   "outputs": [
    {
     "output_type": "stream",
     "name": "stdout",
     "text": [
      "19917 100\n"
     ]
    }
   ],
   "source": [
    "train2015 = assistments_2015[[\"user_id\", \"sequence_id\", \"correct\"]].dropna()\n",
    "\n",
    "user_ids = train2015[\"user_id\"].unique()\n",
    "skill_ids = train2015[\"sequence_id\"].unique()\n",
    "print(len(user_ids), len(skill_ids))\n",
    "\n",
    "train2015.to_csv(\"../data/assistments2015/assistments2015.csv\", index=False)"
   ]
  },
  {
   "cell_type": "code",
   "execution_count": null,
   "metadata": {},
   "outputs": [],
   "source": []
  }
 ]
}